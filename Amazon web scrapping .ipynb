{
 "cells": [
  {
   "cell_type": "code",
   "execution_count": 18,
   "id": "16ea18ee",
   "metadata": {},
   "outputs": [],
   "source": [
    "from bs4 import BeautifulSoup as soup\n",
    "import requests\n",
    "import smtplib\n",
    "import time\n",
    "import datetime"
   ]
  },
  {
   "cell_type": "code",
   "execution_count": 19,
   "id": "e1d0ce76",
   "metadata": {},
   "outputs": [
    {
     "name": "stdout",
     "output_type": "stream",
     "text": [
      "Title: Title not found\n",
      "Price: Price not found\n"
     ]
    }
   ],
   "source": [
    "# Connect to Website and pull in data\n",
    "\n",
    "import requests\n",
    "from bs4 import BeautifulSoup\n",
    "\n",
    "URL = 'https://www.amazon.com/Funny-Data-Systems-Business-Analyst/dp/B07FNW9FGJ/ref=sr_1_3?dchild=1&keywords=data%2Banalyst%2Btshirt&qid=1626655184&sr=8-3&customId=B0752XJYNL&th=1'\n",
    "\n",
    "headers = {\n",
    "    \"User-Agent\": \"Mozilla/5.0 (Windows NT 10.0; Win64; x64) AppleWebKit/537.36 (KHTML, like Gecko) Chrome/78.0.3904.108 Safari/537.36\",\n",
    "    \"Accept-Encoding\": \"gzip, deflate\",\n",
    "    \"Accept\": \"text/html,application/xhtml+xml,application/xml;q=0.9,*/*;q=0.8\",\n",
    "    \"DNT\": \"1\",\n",
    "    \"Connection\": \"close\",\n",
    "    \"Upgrade-Insecure-Requests\": \"1\"\n",
    "}\n",
    "\n",
    "try:\n",
    "    page = requests.get(URL, headers=headers)\n",
    "    page.raise_for_status()  # Check for any request errors\n",
    "\n",
    "    soup1 = BeautifulSoup(page.content, \"html.parser\")\n",
    "\n",
    "    # Find the title\n",
    "    title_element = soup1.find(id='productTitle')\n",
    "    if title_element:\n",
    "        title = title_element.get_text(strip=True)\n",
    "    else:\n",
    "        title = 'Title not found'\n",
    "\n",
    "    # Find the price\n",
    "    price_element = soup1.find(id='priceblock_ourprice')\n",
    "    if price_element:\n",
    "        price = price_element.get_text(strip=True)\n",
    "    else:\n",
    "        price = 'Price not found'\n",
    "\n",
    "    print(\"Title:\", title)\n",
    "    print(\"Price:\", price)\n",
    "\n",
    "except requests.exceptions.RequestException as e:\n",
    "    print(\"An error occurred:\", e)\n",
    "except Exception as e:\n",
    "    print(\"An unexpected error occurred:\", e)\n"
   ]
  },
  {
   "cell_type": "code",
   "execution_count": 20,
   "id": "4f860746",
   "metadata": {},
   "outputs": [
    {
     "name": "stdout",
     "output_type": "stream",
     "text": [
      "Title: Title not found\n",
      "Price: rice not found\n"
     ]
    }
   ],
   "source": [
    "# Clean up the data a little bit\n",
    "if title is not None:\n",
    "    title = title.strip()\n",
    "else:\n",
    "    title = \"Title not found\"\n",
    "\n",
    "if price is not None:\n",
    "    price = price.strip()[1:]\n",
    "else:\n",
    "    price = \"Price not found\"\n",
    "\n",
    "print(\"Title:\", title)\n",
    "print(\"Price:\", price)\n"
   ]
  },
  {
   "cell_type": "code",
   "execution_count": 21,
   "id": "e9b8488d",
   "metadata": {},
   "outputs": [
    {
     "name": "stdout",
     "output_type": "stream",
     "text": [
      "2023-09-28\n"
     ]
    }
   ],
   "source": [
    "# Create a Timestamp for your output to track when data was collected\n",
    "\n",
    "import datetime\n",
    "\n",
    "today = datetime.date.today()\n",
    "\n",
    "print(today)"
   ]
  },
  {
   "cell_type": "code",
   "execution_count": 22,
   "id": "a9ba3107",
   "metadata": {},
   "outputs": [],
   "source": [
    "# Create CSV and write headers and data into the file\n",
    "\n",
    "import csv\n",
    "from datetime import date\n",
    "\n",
    "header = ['Title', 'Price', 'Date']\n",
    "\n",
    "# Assuming you have values for title and price\n",
    "title = \"Product Title\"\n",
    "price = 19.99\n",
    "\n",
    "# Get today's date\n",
    "today = date.today().strftime(\"%Y-%m-%d\")\n",
    "\n",
    "data = [title, price, today]\n",
    "\n",
    "with open('AmazonWebScraperDataset.csv', 'w', newline='', encoding='UTF8') as f:\n",
    "    writer = csv.writer(f)\n",
    "    writer.writerow(header)\n",
    "    writer.writerow(data)\n"
   ]
  },
  {
   "cell_type": "code",
   "execution_count": 39,
   "id": "6ae6841c",
   "metadata": {},
   "outputs": [
    {
     "name": "stdout",
     "output_type": "stream",
     "text": [
      "                                         Title,Price\n",
      "0  AmazonBasics 127cm (50 inch) 4K Ultra HD Smart...\n"
     ]
    }
   ],
   "source": [
    "import pandas as pd\n",
    "\n",
    "# Use a raw string or double backslashes in the file path\n",
    "file_path = r'C:\\Users\\nzekwe.patrick\\OneDrive - Emerging Markets Telecommunication Services Limited\\Documents\\Book1.csv'\n",
    "\n",
    "df = pd.read_csv(file_path)\n",
    "\n",
    "print(df)\n"
   ]
  },
  {
   "cell_type": "code",
   "execution_count": 37,
   "id": "c530273c",
   "metadata": {},
   "outputs": [],
   "source": [
    "#Now we are appending data to the csv\n",
    "\n",
    "import csv  # Import the csv module\n",
    "\n",
    "# Define your data as a list of values (replace this with your actual data)\n",
    "data = [\"Value1\", \"Value2\", \"Value3\"]\n",
    "\n",
    "# Open the CSV file in 'a+' mode to append data\n",
    "with open('AmazonWebScraperDataset.csv', 'a+', newline='', encoding='UTF8') as f:\n",
    "    writer = csv.writer(f)\n",
    "    writer.writerow(data)\n"
   ]
  },
  {
   "cell_type": "code",
   "execution_count": 31,
   "id": "3335762c",
   "metadata": {},
   "outputs": [],
   "source": [
    "#Combine all of the above code into one function\n",
    "\n",
    "\n",
    "import requests\n",
    "from bs4 import BeautifulSoup\n",
    "import datetime\n",
    "import csv"
   ]
  },
  {
   "cell_type": "code",
   "execution_count": 32,
   "id": "2021a2b6",
   "metadata": {},
   "outputs": [],
   "source": [
    "def check_price():\n",
    "    URL = 'https://www.amazon.com/Funny-Data-Systems-Business-Analyst/dp/B07FNW9FGJ/ref=sr_1_3?dchild=1&keywords=data%2Banalyst%2Btshirt&qid=1626655184&sr=8-3&customId=B0752XJYNL&th=1'\n",
    "\n",
    "    headers = {\n",
    "        \"User-Agent\": \"Mozilla/5.0 (Windows NT 10.0; Win64; x64) AppleWebKit/537.36 (KHTML, like Gecko) Chrome/78.0.3904.108 Safari/537.36\",\n",
    "        \"Accept-Encoding\": \"gzip, deflate\",\n",
    "        \"Accept\": \"text/html,application/xhtml+xml,application/xml;q=0.9,*/*;q=0.8\",\n",
    "        \"DNT\": \"1\",\n",
    "        \"Connection\": \"close\",\n",
    "        \"Upgrade-Insecure-Requests\": \"1\"\n",
    "    }\n",
    "\n",
    "    page = requests.get(URL, headers=headers)\n",
    "\n",
    "    soup1 = BeautifulSoup(page.content, \"html.parser\")\n",
    "    soup2 = BeautifulSoup(soup1.prettify(), \"html.parser\")\n",
    "\n",
    "    title_element = soup2.find(id='productTitle')\n",
    "    price_element = soup2.find(id='priceblock_ourprice')\n",
    "\n",
    "    if title_element and price_element:\n",
    "        title = title_element.get_text().strip()\n",
    "        price = price_element.get_text().strip()[1:]\n",
    "    else:\n",
    "        title = \"Title not found\"\n",
    "        price = \"Price not found\"\n",
    "\n",
    "    today = datetime.date.today()\n",
    "\n",
    "    header = ['Title', 'Price', 'Date']\n",
    "    data = [title, price, today]\n",
    "\n",
    "    with open('Book1.csv', 'a+', newline='', encoding='UTF8') as f:\n",
    "        writer = csv.writer(f)\n",
    "        writer.writerow(data)\n",
    "\n",
    "# Call the check_price() function to execute the web scraping and data writing\n",
    "check_price()\n"
   ]
  },
  {
   "cell_type": "code",
   "execution_count": 33,
   "id": "c4009ff9",
   "metadata": {},
   "outputs": [],
   "source": [
    "# Runs check_price after a set time and inputs data into your CSV\n",
    "\n",
    "import requests\n",
    "from bs4 import BeautifulSoup\n",
    "import datetime\n",
    "import csv\n",
    "import time\n",
    "\n",
    "def check_price():\n",
    "    # ... (the rest of your check_price() function as before)\n",
    "\n",
    "#while True:\n",
    "    try:\n",
    "        check_price()\n",
    "        print(\"Data scraped successfully.\")\n",
    "    except Exception as e:\n",
    "        print(f\"An error occurred: {str(e)}\")\n",
    "    \n",
    "    time.sleep(86400)  # Sleep for 24 hours (86,400 seconds)\n"
   ]
  },
  {
   "cell_type": "code",
   "execution_count": 34,
   "id": "e01fefd2",
   "metadata": {},
   "outputs": [
    {
     "name": "stdout",
     "output_type": "stream",
     "text": [
      "                                         Title,Price\n",
      "0  AmazonBasics 127cm (50 inch) 4K Ultra HD Smart...\n"
     ]
    }
   ],
   "source": [
    "import pandas as pd\n",
    "\n",
    "df = pd.read_csv(r'c:\\Users\\nzekwe.patrick\\OneDrive - Emerging Markets Telecommunication Services Limited\\Documents\\Book1.csv')\n",
    "\n",
    "print(df)"
   ]
  },
  {
   "cell_type": "code",
   "execution_count": 36,
   "id": "1fa0ead4",
   "metadata": {},
   "outputs": [],
   "source": [
    " #If you want to try sending yourself an email (just for fun) when a price hits below a certain level you can try it\n",
    "# out with this script\n",
    "\n",
    "def send_mail():\n",
    "    server = smtplib.SMTP_SSL('smtp.gmail.com',465)\n",
    "    server.ehlo()\n",
    "    #server.starttls()\n",
    "    server.ehlo()\n",
    "    server.login('pato23@gmail.com','xxxxxxxxxxxxxx')\n",
    "    \n",
    "    subject = \"The Shirt you want is below $15! Now is your chance to buy!\"\n",
    "    body = \"Alex, This is the moment we have been waiting for. Now is your chance to pick up the shirt of your dreams. Don't mess it up! Link here: https://www.amazon.com/Funny-Data-Systems-Business-Analyst/dp/B07FNW9FGJ/ref=sr_1_3?dchild=1&keywords=data+analyst+tshirt&qid=1626655184&sr=8-3\"\n",
    "   \n",
    "    msg = f\"Subject: {subject}\\n\\n{body}\"\n",
    "    \n",
    "    server.sendmail(\n",
    "        'pato23@gmail.com',\n",
    "        msg\n",
    "     \n",
    "    )"
   ]
  },
  {
   "cell_type": "code",
   "execution_count": null,
   "id": "0bfd014a",
   "metadata": {},
   "outputs": [],
   "source": []
  }
 ],
 "metadata": {
  "kernelspec": {
   "display_name": "Python 3 (ipykernel)",
   "language": "python",
   "name": "python3"
  },
  "language_info": {
   "codemirror_mode": {
    "name": "ipython",
    "version": 3
   },
   "file_extension": ".py",
   "mimetype": "text/x-python",
   "name": "python",
   "nbconvert_exporter": "python",
   "pygments_lexer": "ipython3",
   "version": "3.9.13"
  }
 },
 "nbformat": 4,
 "nbformat_minor": 5
}
